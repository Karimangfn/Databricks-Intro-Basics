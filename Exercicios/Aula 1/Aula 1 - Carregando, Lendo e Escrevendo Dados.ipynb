{
 "cells": [
  {
   "cell_type": "code",
   "execution_count": 0,
   "metadata": {
    "application/vnd.databricks.v1+cell": {
     "cellMetadata": {
      "byteLimit": 2048000,
      "rowLimit": 10000
     },
     "inputWidgets": {},
     "nuid": "3866d226-eb62-4081-bee6-0e771e3a6578",
     "showTitle": true,
     "tableResultSettingsMap": {},
     "title": "Read"
    }
   },
   "outputs": [],
   "source": [
    "df = spark.read.format(\"csv\").load(\"dbfs:/FileStore/shared_uploads/kari@hotmail.com/modelo_carro.csv\")\n",
    "\n",
    "display(df)"
   ]
  },
  {
   "cell_type": "code",
   "execution_count": 0,
   "metadata": {
    "application/vnd.databricks.v1+cell": {
     "cellMetadata": {
      "byteLimit": 2048000,
      "rowLimit": 10000
     },
     "inputWidgets": {},
     "nuid": "603af8cb-da31-4199-b680-4ea4a85bf0df",
     "showTitle": true,
     "tableResultSettingsMap": {},
     "title": "Write"
    }
   },
   "outputs": [],
   "source": [
    "df.write.format(\"csv\").save(\"/aprendizado/modelo_carro\")"
   ]
  },
  {
   "cell_type": "code",
   "execution_count": 0,
   "metadata": {
    "application/vnd.databricks.v1+cell": {
     "cellMetadata": {
      "byteLimit": 2048000,
      "rowLimit": 10000
     },
     "inputWidgets": {},
     "nuid": "d471bb5f-d5d9-477b-8676-7507d1264d9b",
     "showTitle": true,
     "tableResultSettingsMap": {},
     "title": "Overwrite"
    }
   },
   "outputs": [],
   "source": [
    "df.write.format(\"csv\").mode(\"overwrite\").save(\"/aprendizado/modelo_carro\")"
   ]
  },
  {
   "cell_type": "code",
   "execution_count": 0,
   "metadata": {
    "application/vnd.databricks.v1+cell": {
     "cellMetadata": {
      "byteLimit": 2048000,
      "rowLimit": 10000
     },
     "inputWidgets": {},
     "nuid": "893add87-dfc4-44e0-bd7d-05973618b52a",
     "showTitle": true,
     "tableResultSettingsMap": {},
     "title": "Append"
    }
   },
   "outputs": [],
   "source": [
    "df.write.format(\"csv\").mode(\"append\").save(\"/aprendizado/modelo_carro\")"
   ]
  },
  {
   "cell_type": "code",
   "execution_count": 0,
   "metadata": {
    "application/vnd.databricks.v1+cell": {
     "cellMetadata": {
      "byteLimit": 2048000,
      "rowLimit": 10000
     },
     "inputWidgets": {},
     "nuid": "ac95e471-b8a6-4f8d-a91f-20bbc30b7240",
     "showTitle": true,
     "tableResultSettingsMap": {},
     "title": "Count"
    }
   },
   "outputs": [],
   "source": [
    "df.count()"
   ]
  }
 ],
 "metadata": {
  "application/vnd.databricks.v1+notebook": {
   "computePreferences": null,
   "dashboards": [],
   "environmentMetadata": {
    "base_environment": "",
    "client": "1"
   },
   "language": "python",
   "notebookMetadata": {
    "pythonIndentUnit": 4
   },
   "notebookName": "Aula 1 - Carregando, Lendo e Escrevendo Dados",
   "widgets": {}
  }
 },
 "nbformat": 4,
 "nbformat_minor": 0
}
