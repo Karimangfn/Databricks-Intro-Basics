{
 "cells": [
  {
   "cell_type": "code",
   "execution_count": 0,
   "metadata": {
    "application/vnd.databricks.v1+cell": {
     "cellMetadata": {
      "byteLimit": 2048000,
      "rowLimit": 10000
     },
     "inputWidgets": {},
     "nuid": "b6188dcd-7e10-4a04-9d88-0fe6383ea1e9",
     "showTitle": false,
     "tableResultSettingsMap": {},
     "title": ""
    }
   },
   "outputs": [],
   "source": [
    "df = spark.read.format(\"csv\").option(\"header\", True).load(\"/aprendizado/modelo_carro\")"
   ]
  },
  {
   "cell_type": "code",
   "execution_count": 0,
   "metadata": {
    "application/vnd.databricks.v1+cell": {
     "cellMetadata": {
      "byteLimit": 2048000,
      "rowLimit": 10000
     },
     "inputWidgets": {},
     "nuid": "c4c483bc-991c-4880-a3a6-4de1140fd678",
     "showTitle": true,
     "tableResultSettingsMap": {},
     "title": "Create Temporary View"
    }
   },
   "outputs": [],
   "source": [
    "df.createOrReplaceTempView(\"carros\")"
   ]
  },
  {
   "cell_type": "code",
   "execution_count": 0,
   "metadata": {
    "application/vnd.databricks.v1+cell": {
     "cellMetadata": {
      "byteLimit": 2048000,
      "implicitDf": true,
      "rowLimit": 10000
     },
     "inputWidgets": {},
     "nuid": "c422a27b-8e3d-4c35-9f09-e8483aaf64f4",
     "showTitle": true,
     "tableResultSettingsMap": {},
     "title": "Select with Where"
    }
   },
   "outputs": [],
   "source": [
    "%sql\n",
    "\n",
    "SELECT * FROM carros\n",
    "WHERE id_carro = 1\n",
    "OR modelo_carro = \"Avalon\""
   ]
  },
  {
   "cell_type": "code",
   "execution_count": 0,
   "metadata": {
    "application/vnd.databricks.v1+cell": {
     "cellMetadata": {
      "byteLimit": 2048000,
      "rowLimit": 10000
     },
     "inputWidgets": {},
     "nuid": "d4c9f5d2-ada4-4b6e-99aa-0143c43e6ec6",
     "showTitle": true,
     "tableResultSettingsMap": {},
     "title": "Where with SparkSQL"
    }
   },
   "outputs": [],
   "source": [
    "df_sql = spark.sql(\"\"\"\n",
    "    SELECT * FROM carros\n",
    "    WHERE id_carro = 1\n",
    "    OR modelo_carro = \"Avalon\"\n",
    "\"\"\")\n",
    "\n",
    "display(df_sql)"
   ]
  },
  {
   "cell_type": "code",
   "execution_count": 0,
   "metadata": {
    "application/vnd.databricks.v1+cell": {
     "cellMetadata": {
      "byteLimit": 2048000,
      "rowLimit": 10000
     },
     "inputWidgets": {},
     "nuid": "1f90ae44-e3a0-405c-947b-fd1a352e3cd5",
     "showTitle": true,
     "tableResultSettingsMap": {},
     "title": "Filter"
    }
   },
   "outputs": [],
   "source": [
    "display(\n",
    "    df.filter(\"id_carro = '1'\")\n",
    ")"
   ]
  },
  {
   "cell_type": "code",
   "execution_count": 0,
   "metadata": {
    "application/vnd.databricks.v1+cell": {
     "cellMetadata": {
      "byteLimit": 2048000,
      "rowLimit": 10000
     },
     "inputWidgets": {},
     "nuid": "e0f1b14b-679e-4829-93f8-9f89c835d42a",
     "showTitle": true,
     "tableResultSettingsMap": {},
     "title": "Where"
    }
   },
   "outputs": [],
   "source": [
    "display(\n",
    "    df.where(\"id_carro = '1'\")\n",
    ")"
   ]
  }
 ],
 "metadata": {
  "application/vnd.databricks.v1+notebook": {
   "computePreferences": null,
   "dashboards": [],
   "environmentMetadata": {
    "base_environment": "",
    "client": "1"
   },
   "language": "python",
   "notebookMetadata": {
    "mostRecentlyExecutedCommandWithImplicitDF": {
     "commandId": 1909819025334244,
     "dataframes": [
      "_sqldf"
     ]
    },
    "pythonIndentUnit": 4
   },
   "notebookName": "Aula 4 - Filtros",
   "widgets": {}
  }
 },
 "nbformat": 4,
 "nbformat_minor": 0
}
