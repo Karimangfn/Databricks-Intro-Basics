{
 "cells": [
  {
   "cell_type": "code",
   "execution_count": 0,
   "metadata": {
    "application/vnd.databricks.v1+cell": {
     "cellMetadata": {
      "byteLimit": 2048000,
      "rowLimit": 10000
     },
     "inputWidgets": {},
     "nuid": "9b878282-4442-4888-80d5-b383c86108fd",
     "showTitle": false,
     "tableResultSettingsMap": {},
     "title": ""
    }
   },
   "outputs": [],
   "source": [
    "from pyspark.sql.functions import *"
   ]
  },
  {
   "cell_type": "code",
   "execution_count": 0,
   "metadata": {
    "application/vnd.databricks.v1+cell": {
     "cellMetadata": {
      "byteLimit": 2048000,
      "rowLimit": 10000
     },
     "inputWidgets": {},
     "nuid": "f57ec4cb-bd73-4330-8c5c-c59e22c28037",
     "showTitle": false,
     "tableResultSettingsMap": {},
     "title": ""
    }
   },
   "outputs": [],
   "source": [
    "df = spark.read.format(\"csv\").option(\"header\", True).load(\"/aprendizado/modelo_carro\")"
   ]
  },
  {
   "cell_type": "code",
   "execution_count": 0,
   "metadata": {
    "application/vnd.databricks.v1+cell": {
     "cellMetadata": {
      "byteLimit": 2048000,
      "rowLimit": 10000
     },
     "inputWidgets": {},
     "nuid": "21e8109e-a6db-434e-8c98-1f142a8ccbb8",
     "showTitle": true,
     "tableResultSettingsMap": {},
     "title": "Create Temporary View"
    }
   },
   "outputs": [],
   "source": [
    "df.createOrReplaceTempView(\"carros\")"
   ]
  },
  {
   "cell_type": "code",
   "execution_count": 0,
   "metadata": {
    "application/vnd.databricks.v1+cell": {
     "cellMetadata": {
      "byteLimit": 2048000,
      "implicitDf": true,
      "rowLimit": 10000
     },
     "inputWidgets": {},
     "nuid": "c9dea669-a5ff-42e9-b717-7821820f36ea",
     "showTitle": true,
     "tableResultSettingsMap": {},
     "title": "Select with Substring"
    }
   },
   "outputs": [],
   "source": [
    "%sql\n",
    "\n",
    "SELECT \n",
    "  modelo_carro, \n",
    "  SUBSTRING(modelo_carro, 2, 3)\n",
    "FROM carros"
   ]
  },
  {
   "cell_type": "code",
   "execution_count": 0,
   "metadata": {
    "application/vnd.databricks.v1+cell": {
     "cellMetadata": {
      "byteLimit": 2048000,
      "implicitDf": true,
      "rowLimit": 10000
     },
     "inputWidgets": {},
     "nuid": "51248d92-1103-42fa-ab5e-fc344798aabe",
     "showTitle": true,
     "tableResultSettingsMap": {},
     "title": "Select with Substring, Left and Right"
    }
   },
   "outputs": [],
   "source": [
    "%sql\n",
    "\n",
    "SELECT \n",
    "  modelo_carro, \n",
    "  SUBSTRING(modelo_carro, 2, 3),\n",
    "  LEFT(modelo_carro, 2),\n",
    "  RIGHT(modelo_carro, 2)\n",
    "FROM carros"
   ]
  },
  {
   "cell_type": "code",
   "execution_count": 0,
   "metadata": {
    "application/vnd.databricks.v1+cell": {
     "cellMetadata": {
      "byteLimit": 2048000,
      "rowLimit": 10000
     },
     "inputWidgets": {},
     "nuid": "ba336c77-32c1-465e-9f10-41757573ae64",
     "showTitle": true,
     "tableResultSettingsMap": {},
     "title": "Substring, Left and Right with PySpark"
    }
   },
   "outputs": [],
   "source": [
    "df_spark = df.withColumn(\n",
    "    \"modelo_sub\", substring(\"modelo_carro\", 1, 2)\n",
    ").withColumn(\n",
    "    \"modelo_right\", expr(\"RIGHT(modelo_carro, 2)\")\n",
    ").withColumn(\n",
    "    \"modelo_left\", expr(\"LEFT(modelo_carro, 2)\")\n",
    ")\n",
    "\n",
    "display(df_spark)"
   ]
  }
 ],
 "metadata": {
  "application/vnd.databricks.v1+notebook": {
   "computePreferences": null,
   "dashboards": [],
   "environmentMetadata": {
    "base_environment": "",
    "client": "1"
   },
   "language": "python",
   "notebookMetadata": {
    "mostRecentlyExecutedCommandWithImplicitDF": {
     "commandId": 892054707407822,
     "dataframes": [
      "_sqldf"
     ]
    },
    "pythonIndentUnit": 4
   },
   "notebookName": "Aula 8 - Substring, Right e Left",
   "widgets": {}
  }
 },
 "nbformat": 4,
 "nbformat_minor": 0
}
