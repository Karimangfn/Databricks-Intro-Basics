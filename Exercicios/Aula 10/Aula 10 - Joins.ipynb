{
 "cells": [
  {
   "cell_type": "code",
   "execution_count": 0,
   "metadata": {
    "application/vnd.databricks.v1+cell": {
     "cellMetadata": {
      "byteLimit": 2048000,
      "rowLimit": 10000
     },
     "inputWidgets": {},
     "nuid": "7d6580ae-eece-4cfb-bb01-44d495032967",
     "showTitle": false,
     "tableResultSettingsMap": {},
     "title": ""
    }
   },
   "outputs": [],
   "source": [
    "from pyspark.sql.functions import *"
   ]
  },
  {
   "cell_type": "code",
   "execution_count": 0,
   "metadata": {
    "application/vnd.databricks.v1+cell": {
     "cellMetadata": {
      "byteLimit": 2048000,
      "rowLimit": 10000
     },
     "inputWidgets": {},
     "nuid": "2b38eed5-4d40-4e13-b4a8-fcfab3d605fe",
     "showTitle": false,
     "tableResultSettingsMap": {},
     "title": ""
    }
   },
   "outputs": [],
   "source": [
    "df_carros = spark.read.format(\"csv\").option(\"header\", True).load(\"/aprendizado/modelo_carro\")\n",
    "df_marcas = spark.read.format(\"csv\").option(\"header\", True).load(\"/aprendizado/marca_carro\")"
   ]
  },
  {
   "cell_type": "code",
   "execution_count": 0,
   "metadata": {
    "application/vnd.databricks.v1+cell": {
     "cellMetadata": {
      "byteLimit": 2048000,
      "rowLimit": 10000
     },
     "inputWidgets": {},
     "nuid": "387897bc-7c0d-4264-9817-e78f7a96babb",
     "showTitle": true,
     "tableResultSettingsMap": {},
     "title": "Create Temporary View"
    }
   },
   "outputs": [],
   "source": [
    "df_carros.createOrReplaceTempView(\"carros\")\n",
    "df_marcas.createOrReplaceTempView(\"marcas\")"
   ]
  },
  {
   "cell_type": "code",
   "execution_count": 0,
   "metadata": {
    "application/vnd.databricks.v1+cell": {
     "cellMetadata": {
      "byteLimit": 2048000,
      "implicitDf": true,
      "rowLimit": 10000
     },
     "inputWidgets": {},
     "nuid": "e78d75bb-33c2-4695-8774-f8fbf4470c5b",
     "showTitle": true,
     "tableResultSettingsMap": {},
     "title": "Inner Join"
    }
   },
   "outputs": [],
   "source": [
    "%sql\n",
    "\n",
    "SELECT *\n",
    "FROM carros c\n",
    "INNER JOIN marcas m\n",
    "ON c.cod_marca = m.cod_marca"
   ]
  },
  {
   "cell_type": "code",
   "execution_count": 0,
   "metadata": {
    "application/vnd.databricks.v1+cell": {
     "cellMetadata": {
      "byteLimit": 2048000,
      "implicitDf": true,
      "rowLimit": 10000
     },
     "inputWidgets": {},
     "nuid": "55c7cbbe-c4fb-4a28-9ddd-37a86ab871dd",
     "showTitle": true,
     "tableResultSettingsMap": {},
     "title": "Left Join"
    }
   },
   "outputs": [],
   "source": [
    "%sql\n",
    "\n",
    "SELECT *\n",
    "FROM carros c\n",
    "LEFT JOIN marcas m\n",
    "ON c.cod_marca = m.cod_marca"
   ]
  },
  {
   "cell_type": "code",
   "execution_count": 0,
   "metadata": {
    "application/vnd.databricks.v1+cell": {
     "cellMetadata": {
      "byteLimit": 2048000,
      "implicitDf": true,
      "rowLimit": 10000
     },
     "inputWidgets": {},
     "nuid": "00b2dbe0-7b51-424c-aed0-63ed4b95bc40",
     "showTitle": true,
     "tableResultSettingsMap": {},
     "title": "Right Join"
    }
   },
   "outputs": [],
   "source": [
    "%sql\n",
    "\n",
    "SELECT *\n",
    "FROM carros c\n",
    "RIGHT JOIN marcas m\n",
    "ON c.cod_marca = m.cod_marca"
   ]
  },
  {
   "cell_type": "code",
   "execution_count": 0,
   "metadata": {
    "application/vnd.databricks.v1+cell": {
     "cellMetadata": {
      "byteLimit": 2048000,
      "rowLimit": 10000
     },
     "inputWidgets": {},
     "nuid": "d91897be-5576-4d8a-a77b-6fa99a408c8f",
     "showTitle": true,
     "tableResultSettingsMap": {},
     "title": "Inner Join with PySpark"
    }
   },
   "outputs": [],
   "source": [
    "df_innerjoin = df_carros.join(\n",
    "    df_marcas,\n",
    "    (df_carros.cod_marca == df_marcas.cod_marca),\n",
    "    \"inner\"\n",
    ")\n",
    "\n",
    "display(df_innerjoin)"
   ]
  },
  {
   "cell_type": "code",
   "execution_count": 0,
   "metadata": {
    "application/vnd.databricks.v1+cell": {
     "cellMetadata": {
      "byteLimit": 2048000,
      "rowLimit": 10000
     },
     "inputWidgets": {},
     "nuid": "56fb039d-139d-4380-8ed6-d3b2e540e9fe",
     "showTitle": true,
     "tableResultSettingsMap": {},
     "title": "Right Join with PySpark"
    }
   },
   "outputs": [],
   "source": [
    "df_rightjoin = df_carros.join(\n",
    "    df_marcas,\n",
    "    (df_carros.cod_marca == df_marcas.cod_marca),\n",
    "    \"right\"\n",
    ")\n",
    "\n",
    "display(df_rightjoin)"
   ]
  },
  {
   "cell_type": "code",
   "execution_count": 0,
   "metadata": {
    "application/vnd.databricks.v1+cell": {
     "cellMetadata": {
      "byteLimit": 2048000,
      "rowLimit": 10000
     },
     "inputWidgets": {},
     "nuid": "80cf7c36-0fdc-4e0e-8fe9-9927b58f3429",
     "showTitle": true,
     "tableResultSettingsMap": {},
     "title": "Left Join with PySpark"
    }
   },
   "outputs": [],
   "source": [
    "df_leftjoin = df_carros.join(\n",
    "    df_marcas,\n",
    "    (df_carros.cod_marca == df_marcas.cod_marca),\n",
    "    \"left\"\n",
    ")\n",
    "\n",
    "display(df_leftjoin)"
   ]
  }
 ],
 "metadata": {
  "application/vnd.databricks.v1+notebook": {
   "computePreferences": null,
   "dashboards": [],
   "environmentMetadata": {
    "base_environment": "",
    "client": "1"
   },
   "language": "python",
   "notebookMetadata": {
    "mostRecentlyExecutedCommandWithImplicitDF": {
     "commandId": 1360219825043966,
     "dataframes": [
      "_sqldf"
     ]
    },
    "pythonIndentUnit": 4
   },
   "notebookName": "Aula 10 - Joins",
   "widgets": {}
  }
 },
 "nbformat": 4,
 "nbformat_minor": 0
}
