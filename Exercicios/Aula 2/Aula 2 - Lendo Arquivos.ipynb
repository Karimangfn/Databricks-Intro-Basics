{
 "cells": [
  {
   "cell_type": "code",
   "execution_count": 0,
   "metadata": {
    "application/vnd.databricks.v1+cell": {
     "cellMetadata": {
      "byteLimit": 2048000,
      "rowLimit": 10000
     },
     "inputWidgets": {},
     "nuid": "3013ab32-2b35-4b86-ad9a-2e0514d3532c",
     "showTitle": true,
     "tableResultSettingsMap": {},
     "title": "Header e Delimitador"
    }
   },
   "outputs": [],
   "source": [
    "df = spark.read.format(\"csv\").option(\"header\", True).option(\"delimiter\", \"|\").load(\"/aprendizado/modelo_carro\")\n",
    "\n",
    "display(df)"
   ]
  },
  {
   "cell_type": "code",
   "execution_count": 0,
   "metadata": {
    "application/vnd.databricks.v1+cell": {
     "cellMetadata": {
      "byteLimit": 2048000,
      "rowLimit": 10000
     },
     "inputWidgets": {},
     "nuid": "ac743460-7e8c-4eed-abe0-573f043a74d4",
     "showTitle": true,
     "tableResultSettingsMap": {},
     "title": "Delimitador no Load"
    }
   },
   "outputs": [],
   "source": [
    "df = spark.read.format(\"csv\").option(\"header\", True).load(\"/aprendizado/modelo_carro\", sep = \",\")\n",
    "\n",
    "display(df)"
   ]
  },
  {
   "cell_type": "code",
   "execution_count": 0,
   "metadata": {
    "application/vnd.databricks.v1+cell": {
     "cellMetadata": {
      "byteLimit": 2048000,
      "rowLimit": 10000
     },
     "inputWidgets": {},
     "nuid": "28a9cbe2-624f-4afe-8a0c-ef7337f944ed",
     "showTitle": true,
     "tableResultSettingsMap": {},
     "title": "Encoding"
    }
   },
   "outputs": [],
   "source": [
    "df = spark.read.format(\"csv\").option(\"header\", True).option(\"encoding\", \"utf-8\").load(\"/aprendizado/modelo_carro\", sep = \",\")\n",
    "\n",
    "display(df)"
   ]
  },
  {
   "cell_type": "code",
   "execution_count": 0,
   "metadata": {
    "application/vnd.databricks.v1+cell": {
     "cellMetadata": {
      "byteLimit": 2048000,
      "rowLimit": 10000
     },
     "inputWidgets": {},
     "nuid": "144cc6c8-222c-40d4-84aa-1ce6d2059f09",
     "showTitle": true,
     "tableResultSettingsMap": {},
     "title": "Escrevendo em outros formatos de Arquivos"
    }
   },
   "outputs": [],
   "source": [
    "df.write.format(\"parquet\").save(\"/aprendizado/modelo_carro_parquet\")\n",
    "df.write.format(\"avro\").save(\"/aprendizado/modelo_carro_avro\")\n",
    "df.write.format(\"json\").save(\"/aprendizado/modelo_carro_json\")"
   ]
  },
  {
   "cell_type": "code",
   "execution_count": 0,
   "metadata": {
    "application/vnd.databricks.v1+cell": {
     "cellMetadata": {
      "byteLimit": 2048000,
      "rowLimit": 10000
     },
     "inputWidgets": {},
     "nuid": "10883add-37d9-4e76-b1e2-d107db0c2a1c",
     "showTitle": true,
     "tableResultSettingsMap": {},
     "title": "Lendo em outros formatos de Arquivos"
    }
   },
   "outputs": [],
   "source": [
    "df = spark.read.format(\"parquet\").load(\"/aprendizado/modelo_carro_parquet\")\n",
    "df = spark.read.format(\"avro\").load(\"/aprendizado/modelo_carro_avro\")\n",
    "df = spark.read.format(\"json\").load(\"/aprendizado/modelo_carro_json\")"
   ]
  }
 ],
 "metadata": {
  "application/vnd.databricks.v1+notebook": {
   "computePreferences": null,
   "dashboards": [],
   "environmentMetadata": {
    "base_environment": "",
    "client": "1"
   },
   "language": "python",
   "notebookMetadata": {
    "pythonIndentUnit": 4
   },
   "notebookName": "Aula 2 - Lendo Arquivos",
   "widgets": {}
  }
 },
 "nbformat": 4,
 "nbformat_minor": 0
}
