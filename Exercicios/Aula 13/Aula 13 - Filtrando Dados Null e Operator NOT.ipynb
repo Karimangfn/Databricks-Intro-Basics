{
 "cells": [
  {
   "cell_type": "code",
   "execution_count": 0,
   "metadata": {
    "application/vnd.databricks.v1+cell": {
     "cellMetadata": {
      "byteLimit": 2048000,
      "rowLimit": 10000
     },
     "inputWidgets": {},
     "nuid": "0f7b110d-2c3b-452e-9037-495d8fddced8",
     "showTitle": false,
     "tableResultSettingsMap": {},
     "title": ""
    }
   },
   "outputs": [],
   "source": [
    "from pyspark.sql.functions import *"
   ]
  },
  {
   "cell_type": "code",
   "execution_count": 0,
   "metadata": {
    "application/vnd.databricks.v1+cell": {
     "cellMetadata": {
      "byteLimit": 2048000,
      "rowLimit": 10000
     },
     "inputWidgets": {},
     "nuid": "b971c1f2-ad08-4252-bc3c-423f0b9f0ffb",
     "showTitle": false,
     "tableResultSettingsMap": {},
     "title": ""
    }
   },
   "outputs": [],
   "source": [
    "df_carros = spark.read.format(\"csv\").option(\"header\", True).load(\"/aprendizado/modelo_carro\").distinct()\n",
    "\n",
    "df_carros_2 = df_carros.where(\n",
    "    (col(\"id_carro\") == '1') |\n",
    "    (col(\"id_carro\") == '2') |\n",
    "    (col(\"id_carro\") == '3')\n",
    ")\n",
    "\n",
    "df_carros_3 = df_carros.where(\n",
    "    col(\"id_carro\") == '4'\n",
    ").withColumn(\n",
    "    \"preco\",\n",
    "    lit(None)\n",
    ")\n",
    "\n",
    "df_carros = df_carros_2.union(df_carros_3)\n",
    "\n",
    "display(df_carros)"
   ]
  },
  {
   "cell_type": "code",
   "execution_count": 0,
   "metadata": {
    "application/vnd.databricks.v1+cell": {
     "cellMetadata": {
      "byteLimit": 2048000,
      "rowLimit": 10000
     },
     "inputWidgets": {},
     "nuid": "c086053e-077e-44de-b701-db1989be7257",
     "showTitle": true,
     "tableResultSettingsMap": {},
     "title": "Create Temporary View"
    }
   },
   "outputs": [],
   "source": [
    "df_carros.createOrReplaceTempView(\"carros\")"
   ]
  },
  {
   "cell_type": "code",
   "execution_count": 0,
   "metadata": {
    "application/vnd.databricks.v1+cell": {
     "cellMetadata": {
      "byteLimit": 2048000,
      "implicitDf": true,
      "rowLimit": 10000
     },
     "inputWidgets": {},
     "nuid": "40328e7b-f6d1-4b05-9402-8c15377c2787",
     "showTitle": true,
     "tableResultSettingsMap": {},
     "title": "Select with Not Null"
    }
   },
   "outputs": [],
   "source": [
    "%sql\n",
    "\n",
    "SELECT * FROM carros\n",
    "WHERE preco IS NOT NULL"
   ]
  },
  {
   "cell_type": "code",
   "execution_count": 0,
   "metadata": {
    "application/vnd.databricks.v1+cell": {
     "cellMetadata": {
      "byteLimit": 2048000,
      "rowLimit": 10000
     },
     "inputWidgets": {},
     "nuid": "f7755a3e-f7c1-425b-874c-c680b0674830",
     "showTitle": true,
     "tableResultSettingsMap": {},
     "title": "Null with PySpark"
    }
   },
   "outputs": [],
   "source": [
    "df_carros_spark = df_carros.where(\n",
    "    col(\"preco\").isNull()\n",
    ")\n",
    "\n",
    "display(df_carros_spark)"
   ]
  },
  {
   "cell_type": "code",
   "execution_count": 0,
   "metadata": {
    "application/vnd.databricks.v1+cell": {
     "cellMetadata": {
      "byteLimit": 2048000,
      "rowLimit": 10000
     },
     "inputWidgets": {},
     "nuid": "822dbe49-53c7-4989-b283-6e32412d8696",
     "showTitle": true,
     "tableResultSettingsMap": {},
     "title": "Not Null with PySpark"
    }
   },
   "outputs": [],
   "source": [
    "df_carros_spark = df_carros.where(\n",
    "    ~(col(\"preco\").isNull())\n",
    ")\n",
    "\n",
    "display(df_carros_spark)"
   ]
  }
 ],
 "metadata": {
  "application/vnd.databricks.v1+notebook": {
   "computePreferences": null,
   "dashboards": [],
   "environmentMetadata": {
    "base_environment": "",
    "client": "1"
   },
   "language": "python",
   "notebookMetadata": {
    "mostRecentlyExecutedCommandWithImplicitDF": {
     "commandId": 877550292709564,
     "dataframes": [
      "_sqldf"
     ]
    },
    "pythonIndentUnit": 4
   },
   "notebookName": "Aula 13 - Filtrando Dados Null e Operator NOT",
   "widgets": {}
  }
 },
 "nbformat": 4,
 "nbformat_minor": 0
}
