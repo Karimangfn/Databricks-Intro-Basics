{
 "cells": [
  {
   "cell_type": "code",
   "execution_count": 0,
   "metadata": {
    "application/vnd.databricks.v1+cell": {
     "cellMetadata": {
      "byteLimit": 2048000,
      "rowLimit": 10000
     },
     "inputWidgets": {},
     "nuid": "f28a6f3e-ab33-4067-867c-0ebed40a4277",
     "showTitle": false,
     "tableResultSettingsMap": {},
     "title": ""
    }
   },
   "outputs": [],
   "source": [
    "from pyspark.sql.functions import *"
   ]
  },
  {
   "cell_type": "code",
   "execution_count": 0,
   "metadata": {
    "application/vnd.databricks.v1+cell": {
     "cellMetadata": {
      "byteLimit": 2048000,
      "rowLimit": 10000
     },
     "inputWidgets": {},
     "nuid": "c7c17b6c-7bb8-49ac-a196-10a40da2c5bc",
     "showTitle": false,
     "tableResultSettingsMap": {},
     "title": ""
    }
   },
   "outputs": [],
   "source": [
    "df_data_1 = spark.createDataFrame([\"2021-07-05T10:00:00.000+0000\", \"2020-12-05T00:09:00.000+0000\"], \"string\").toDF(\"datas\")\n",
    "df_data_2 = spark.createDataFrame([\"2021-07-05 10:00\", \"2020-12-05 00:09\", \"2017-02-23 16:23\"], \"string\").toDF(\"datas\")\n",
    "df_data_3 = spark.createDataFrame([\"05/07/2021\", \"05/12/2020\", \"23/02/2017\"], \"string\").toDF(\"datas\")\n",
    "\n",
    "display(df_data_1)\n",
    "display(df_data_2)\n",
    "display(df_data_3)"
   ]
  },
  {
   "cell_type": "code",
   "execution_count": 0,
   "metadata": {
    "application/vnd.databricks.v1+cell": {
     "cellMetadata": {
      "byteLimit": 2048000,
      "rowLimit": 10000
     },
     "inputWidgets": {},
     "nuid": "b1d4056b-6361-44c9-8322-634b9111eae8",
     "showTitle": true,
     "tableResultSettingsMap": {},
     "title": "Create Temporary Views"
    }
   },
   "outputs": [],
   "source": [
    "df_data_1.createOrReplaceTempView(\"datas_1\")\n",
    "df_data_2.createOrReplaceTempView(\"datas_2\")\n",
    "df_data_3.createOrReplaceTempView(\"datas_3\")"
   ]
  },
  {
   "cell_type": "code",
   "execution_count": 0,
   "metadata": {
    "application/vnd.databricks.v1+cell": {
     "cellMetadata": {
      "byteLimit": 2048000,
      "implicitDf": true,
      "rowLimit": 10000
     },
     "inputWidgets": {},
     "nuid": "be425f7e-e6ca-485f-aa87-84a7725d8be1",
     "showTitle": true,
     "tableResultSettingsMap": {},
     "title": "Convert to Timestamp"
    }
   },
   "outputs": [],
   "source": [
    "%sql\n",
    "\n",
    "SELECT\n",
    "  TO_TIMESTAMP(datas) datas\n",
    "FROM datas_1"
   ]
  },
  {
   "cell_type": "code",
   "execution_count": 0,
   "metadata": {
    "application/vnd.databricks.v1+cell": {
     "cellMetadata": {
      "byteLimit": 2048000,
      "implicitDf": true,
      "rowLimit": 10000
     },
     "inputWidgets": {},
     "nuid": "92ee2235-2c92-43b1-812d-b740db0968a0",
     "showTitle": true,
     "tableResultSettingsMap": {},
     "title": "Convert do Date"
    }
   },
   "outputs": [],
   "source": [
    "%sql\n",
    "\n",
    "SELECT\n",
    "  CAST(datas as DATE) datas\n",
    "FROM datas_2"
   ]
  },
  {
   "cell_type": "code",
   "execution_count": 0,
   "metadata": {
    "application/vnd.databricks.v1+cell": {
     "cellMetadata": {
      "byteLimit": 2048000,
      "implicitDf": true,
      "rowLimit": 10000
     },
     "inputWidgets": {},
     "nuid": "d71917da-f98d-4377-8a15-85fd93aa7b49",
     "showTitle": true,
     "tableResultSettingsMap": {},
     "title": "Convert to Date with Date Format"
    }
   },
   "outputs": [],
   "source": [
    "%sql\n",
    "\n",
    "SELECT\n",
    "  TO_DATE(datas, \"dd/MM/yyyy\")\n",
    "FROM datas_3"
   ]
  },
  {
   "cell_type": "code",
   "execution_count": 0,
   "metadata": {
    "application/vnd.databricks.v1+cell": {
     "cellMetadata": {
      "byteLimit": 2048000,
      "implicitDf": true,
      "rowLimit": 10000
     },
     "inputWidgets": {},
     "nuid": "42a8ed09-e445-48b7-b7b0-5d9d4f8fb517",
     "showTitle": true,
     "tableResultSettingsMap": {},
     "title": "Convert to Timestamp with Timestamp Format"
    }
   },
   "outputs": [],
   "source": [
    "%sql\n",
    "\n",
    "SELECT\n",
    "  TO_TIMESTAMP(datas, \"dd/MM/yyyy HH:MM\") datas\n",
    "FROM datas_3"
   ]
  },
  {
   "cell_type": "code",
   "execution_count": 0,
   "metadata": {
    "application/vnd.databricks.v1+cell": {
     "cellMetadata": {
      "byteLimit": 2048000,
      "rowLimit": 10000
     },
     "inputWidgets": {},
     "nuid": "504eba7b-a8d4-42e9-84a6-7e92ef7842e0",
     "showTitle": true,
     "tableResultSettingsMap": {},
     "title": "Convertions with PySpark"
    }
   },
   "outputs": [],
   "source": [
    "df_data_1.withColumn(\"datas\", to_timestamp(\"datas\"))\n",
    "df_data_2.withColumn(\"datas\", to_date(\"datas\"))\n",
    "df_data_3.withColumn(\"datas\", to_date(\"datas\", \"dd/MM/yyyy\"))\n",
    "\n",
    "display(df_data_1)\n",
    "display(df_data_2)\n",
    "display(df_data_3)"
   ]
  }
 ],
 "metadata": {
  "application/vnd.databricks.v1+notebook": {
   "computePreferences": null,
   "dashboards": [],
   "environmentMetadata": {
    "base_environment": "",
    "client": "1"
   },
   "language": "python",
   "notebookMetadata": {
    "mostRecentlyExecutedCommandWithImplicitDF": {
     "commandId": 892054707407831,
     "dataframes": [
      "_sqldf"
     ]
    },
    "pythonIndentUnit": 4
   },
   "notebookName": "Aula 9 - Tipando Datas",
   "widgets": {}
  }
 },
 "nbformat": 4,
 "nbformat_minor": 0
}
