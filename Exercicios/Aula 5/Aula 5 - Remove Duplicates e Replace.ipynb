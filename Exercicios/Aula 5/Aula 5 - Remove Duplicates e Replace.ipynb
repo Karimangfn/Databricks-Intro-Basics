{
 "cells": [
  {
   "cell_type": "code",
   "execution_count": 0,
   "metadata": {
    "application/vnd.databricks.v1+cell": {
     "cellMetadata": {
      "byteLimit": 2048000,
      "rowLimit": 10000
     },
     "inputWidgets": {},
     "nuid": "c9959010-a1fa-4ef1-9d60-ccbda76ce26d",
     "showTitle": false,
     "tableResultSettingsMap": {},
     "title": ""
    }
   },
   "outputs": [],
   "source": [
    "df = spark.read.format(\"csv\").option(\"header\", True).load(\"/aprendizado/modelo_carro\")"
   ]
  },
  {
   "cell_type": "code",
   "execution_count": 0,
   "metadata": {
    "application/vnd.databricks.v1+cell": {
     "cellMetadata": {
      "byteLimit": 2048000,
      "rowLimit": 10000
     },
     "inputWidgets": {},
     "nuid": "3b4f374e-6165-4a25-8a5e-e682d517a1ae",
     "showTitle": true,
     "tableResultSettingsMap": {},
     "title": "Create Temporary View"
    }
   },
   "outputs": [],
   "source": [
    "df.createOrReplaceTempView(\"carros\")"
   ]
  },
  {
   "cell_type": "code",
   "execution_count": 0,
   "metadata": {
    "application/vnd.databricks.v1+cell": {
     "cellMetadata": {
      "byteLimit": 2048000,
      "implicitDf": true,
      "rowLimit": 10000
     },
     "inputWidgets": {},
     "nuid": "48e8b736-0a0c-4853-9985-35db4f04112d",
     "showTitle": true,
     "tableResultSettingsMap": {},
     "title": "Select with Distinct"
    }
   },
   "outputs": [],
   "source": [
    "%sql\n",
    "\n",
    "SELECT COUNT(DISTINCT *) \n",
    "FROM carros"
   ]
  },
  {
   "cell_type": "code",
   "execution_count": 0,
   "metadata": {
    "application/vnd.databricks.v1+cell": {
     "cellMetadata": {
      "byteLimit": 2048000,
      "implicitDf": true,
      "rowLimit": 10000
     },
     "inputWidgets": {},
     "nuid": "8a7f9c25-f385-410b-b270-48253fe8e3a9",
     "showTitle": true,
     "tableResultSettingsMap": {},
     "title": "Replace"
    }
   },
   "outputs": [],
   "source": [
    "%sql\n",
    "\n",
    "SELECT REPLACE(preco, '$', '') as preco\n",
    "FROM carros"
   ]
  },
  {
   "cell_type": "code",
   "execution_count": 0,
   "metadata": {
    "application/vnd.databricks.v1+cell": {
     "cellMetadata": {
      "byteLimit": 2048000,
      "rowLimit": 10000
     },
     "inputWidgets": {},
     "nuid": "3ce68ec2-223c-44e6-a2e9-ff5a99989680",
     "showTitle": true,
     "tableResultSettingsMap": {},
     "title": "Drop Duplicates"
    }
   },
   "outputs": [],
   "source": [
    "df_distinct = df.dropDuplicates()\n",
    "\n",
    "display(df_distinct)"
   ]
  },
  {
   "cell_type": "code",
   "execution_count": 0,
   "metadata": {
    "application/vnd.databricks.v1+cell": {
     "cellMetadata": {
      "byteLimit": 2048000,
      "rowLimit": 10000
     },
     "inputWidgets": {},
     "nuid": "638fb859-20b3-4b06-af31-8692a3f40135",
     "showTitle": true,
     "tableResultSettingsMap": {},
     "title": "Replace with PySpark"
    }
   },
   "outputs": [],
   "source": [
    "from pyspark.sql.functions import regexp_replace\n",
    "\n",
    "df_new_column = df.withColumn(\"preco\", regexp_replace(\"preco\", \"$\", \"\"))\n",
    "\n",
    "display(df_new_column)"
   ]
  }
 ],
 "metadata": {
  "application/vnd.databricks.v1+notebook": {
   "computePreferences": null,
   "dashboards": [],
   "environmentMetadata": {
    "base_environment": "",
    "client": "1"
   },
   "language": "python",
   "notebookMetadata": {
    "mostRecentlyExecutedCommandWithImplicitDF": {
     "commandId": 1909819025334252,
     "dataframes": [
      "_sqldf"
     ]
    },
    "pythonIndentUnit": 4
   },
   "notebookName": "Aula 5 - Remove Duplicates e Replace",
   "widgets": {}
  }
 },
 "nbformat": 4,
 "nbformat_minor": 0
}
