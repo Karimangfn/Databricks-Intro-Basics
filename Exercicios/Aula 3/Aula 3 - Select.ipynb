{
 "cells": [
  {
   "cell_type": "code",
   "execution_count": 0,
   "metadata": {
    "application/vnd.databricks.v1+cell": {
     "cellMetadata": {
      "byteLimit": 2048000,
      "rowLimit": 10000
     },
     "inputWidgets": {},
     "nuid": "e6428332-f3b5-421a-b3c2-fd0e432463af",
     "showTitle": false,
     "tableResultSettingsMap": {},
     "title": ""
    }
   },
   "outputs": [],
   "source": [
    "df = spark.read.format(\"csv\").option(\"header\", True).load(\"/aprendizado/modelo_carro\")"
   ]
  },
  {
   "cell_type": "code",
   "execution_count": 0,
   "metadata": {
    "application/vnd.databricks.v1+cell": {
     "cellMetadata": {
      "byteLimit": 2048000,
      "rowLimit": 10000
     },
     "inputWidgets": {},
     "nuid": "d1cb2a38-c105-4fa1-85b8-59325f789836",
     "showTitle": true,
     "tableResultSettingsMap": {},
     "title": "Create Temporary View"
    }
   },
   "outputs": [],
   "source": [
    "df.createOrReplaceTempView(\"carros\")"
   ]
  },
  {
   "cell_type": "code",
   "execution_count": 0,
   "metadata": {
    "application/vnd.databricks.v1+cell": {
     "cellMetadata": {
      "byteLimit": 2048000,
      "implicitDf": true,
      "rowLimit": 10000
     },
     "inputWidgets": {},
     "nuid": "c99564d3-74a9-4980-b97a-a0e6e5622c0e",
     "showTitle": true,
     "tableResultSettingsMap": {},
     "title": "Select"
    }
   },
   "outputs": [],
   "source": [
    "%sql\n",
    "\n",
    "SELECT\n",
    "  *\n",
    "FROM\n",
    "  carros"
   ]
  },
  {
   "cell_type": "code",
   "execution_count": 0,
   "metadata": {
    "application/vnd.databricks.v1+cell": {
     "cellMetadata": {
      "byteLimit": 2048000,
      "rowLimit": 10000
     },
     "inputWidgets": {},
     "nuid": "83691e08-b794-47eb-8df8-e8dce2d6c7d1",
     "showTitle": true,
     "tableResultSettingsMap": {},
     "title": "Select with SparkSQL"
    }
   },
   "outputs": [],
   "source": [
    "df_sql = spark.sql(\"\"\"\n",
    "    SELECT\n",
    "       *\n",
    "    FROM\n",
    "       carros\n",
    "\"\"\")\n",
    "\n",
    "display(df_sql)"
   ]
  },
  {
   "cell_type": "code",
   "execution_count": 0,
   "metadata": {
    "application/vnd.databricks.v1+cell": {
     "cellMetadata": {
      "byteLimit": 2048000,
      "rowLimit": 10000
     },
     "inputWidgets": {},
     "nuid": "31dcd70a-0491-4670-a410-131c54944bab",
     "showTitle": true,
     "tableResultSettingsMap": {},
     "title": "Select no Dataframe"
    }
   },
   "outputs": [],
   "source": [
    "df_spark = df.select(\"modelo_carro\", \"id_carro\")\n",
    "\n",
    "display(df_spark)"
   ]
  }
 ],
 "metadata": {
  "application/vnd.databricks.v1+notebook": {
   "computePreferences": null,
   "dashboards": [],
   "environmentMetadata": {
    "base_environment": "",
    "client": "1"
   },
   "language": "python",
   "notebookMetadata": {
    "mostRecentlyExecutedCommandWithImplicitDF": {
     "commandId": 3580718509338095,
     "dataframes": [
      "_sqldf"
     ]
    },
    "pythonIndentUnit": 4
   },
   "notebookName": "Aula 3 - Select",
   "widgets": {}
  }
 },
 "nbformat": 4,
 "nbformat_minor": 0
}
