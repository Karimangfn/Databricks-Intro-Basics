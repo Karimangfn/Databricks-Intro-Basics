{
 "cells": [
  {
   "cell_type": "code",
   "execution_count": 0,
   "metadata": {
    "application/vnd.databricks.v1+cell": {
     "cellMetadata": {
      "byteLimit": 2048000,
      "rowLimit": 10000
     },
     "inputWidgets": {},
     "nuid": "40a6fb66-5796-4a34-8b0c-1c595a1ca0d1",
     "showTitle": false,
     "tableResultSettingsMap": {},
     "title": ""
    }
   },
   "outputs": [],
   "source": [
    "from pyspark.sql.functions import *"
   ]
  },
  {
   "cell_type": "code",
   "execution_count": 0,
   "metadata": {
    "application/vnd.databricks.v1+cell": {
     "cellMetadata": {
      "byteLimit": 2048000,
      "rowLimit": 10000
     },
     "inputWidgets": {},
     "nuid": "23dbc04c-f546-4750-9b87-b6b61f4ebb3f",
     "showTitle": false,
     "tableResultSettingsMap": {},
     "title": ""
    }
   },
   "outputs": [],
   "source": [
    "df_carros = spark.read.format(\"csv\").option(\"header\", True).load(\"/aprendizado/modelo_carro\").distinct()\n",
    "\n",
    "df_carros_source = df_carros.where(\n",
    "    (col(\"id_carro\") == '1') |\n",
    "    (col(\"id_carro\") == '2') |\n",
    "    (col(\"id_carro\") == '3')\n",
    ")\n",
    "\n",
    "df_carros_final = df_carros.where(\n",
    "    (col(\"id_carro\") == '1') |\n",
    "    (col(\"id_carro\") == '2') |\n",
    "    (col(\"id_carro\") == '3') |\n",
    "    (col(\"id_carro\") == '4')\n",
    ")\n",
    "\n",
    "display(df_carros_source, df_carros_final)"
   ]
  },
  {
   "cell_type": "code",
   "execution_count": 0,
   "metadata": {
    "application/vnd.databricks.v1+cell": {
     "cellMetadata": {
      "byteLimit": 2048000,
      "rowLimit": 10000
     },
     "inputWidgets": {},
     "nuid": "747623b6-a9b4-47c3-b92c-b3a42ff915b6",
     "showTitle": true,
     "tableResultSettingsMap": {},
     "title": "Create Temporary Views"
    }
   },
   "outputs": [],
   "source": [
    "df_carros_source.createOrReplaceTempView(\"carros_source\")\n",
    "df_carros_final.createOrReplaceTempView(\"carros_final\")"
   ]
  },
  {
   "cell_type": "code",
   "execution_count": 0,
   "metadata": {
    "application/vnd.databricks.v1+cell": {
     "cellMetadata": {
      "byteLimit": 2048000,
      "implicitDf": true,
      "rowLimit": 10000
     },
     "inputWidgets": {},
     "nuid": "eaf03377-7afe-4127-ab5b-3da8008810b5",
     "showTitle": true,
     "tableResultSettingsMap": {},
     "title": "Select with Not Exists"
    }
   },
   "outputs": [],
   "source": [
    "%sql\n",
    "\n",
    "SELECT * FROM carros_final f\n",
    "WHERE NOT EXISTS(\n",
    "  SELECT 1 FROM carros_source s WHERE s.id_carro = f.id_carro\n",
    ")"
   ]
  },
  {
   "cell_type": "code",
   "execution_count": 0,
   "metadata": {
    "application/vnd.databricks.v1+cell": {
     "cellMetadata": {
      "byteLimit": 2048000,
      "rowLimit": 10000
     },
     "inputWidgets": {},
     "nuid": "6f971adc-2dea-47a5-b26e-5a5456dd2d27",
     "showTitle": true,
     "tableResultSettingsMap": {},
     "title": "Left Anti Join in PySpark"
    }
   },
   "outputs": [],
   "source": [
    "df_leftantijoin = df_carros.join(\n",
    "    df_carros_source,\n",
    "    df_carros_final.id_carro == df_carros_source.id_carro,\n",
    "    \"leftanti\"\n",
    ")\n",
    "\n",
    "display(df_leftantijoin)"
   ]
  }
 ],
 "metadata": {
  "application/vnd.databricks.v1+notebook": {
   "computePreferences": null,
   "dashboards": [],
   "environmentMetadata": {
    "base_environment": "",
    "client": "1"
   },
   "language": "python",
   "notebookMetadata": {
    "mostRecentlyExecutedCommandWithImplicitDF": {
     "commandId": 877550292709557,
     "dataframes": [
      "_sqldf"
     ]
    },
    "pythonIndentUnit": 4
   },
   "notebookName": "Aula 12 - Not Exists e Left Anti",
   "widgets": {}
  }
 },
 "nbformat": 4,
 "nbformat_minor": 0
}
