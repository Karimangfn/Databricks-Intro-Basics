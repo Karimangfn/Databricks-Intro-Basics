{
 "cells": [
  {
   "cell_type": "code",
   "execution_count": 0,
   "metadata": {
    "application/vnd.databricks.v1+cell": {
     "cellMetadata": {
      "byteLimit": 2048000,
      "rowLimit": 10000
     },
     "inputWidgets": {},
     "nuid": "3672fab9-4121-4487-87f2-ff61d29a42d0",
     "showTitle": false,
     "tableResultSettingsMap": {},
     "title": ""
    }
   },
   "outputs": [],
   "source": [
    "from pyspark.sql.functions import *"
   ]
  },
  {
   "cell_type": "code",
   "execution_count": 0,
   "metadata": {
    "application/vnd.databricks.v1+cell": {
     "cellMetadata": {
      "byteLimit": 2048000,
      "rowLimit": 10000
     },
     "inputWidgets": {},
     "nuid": "ea66b677-8853-487b-aee9-8e9c46836e38",
     "showTitle": false,
     "tableResultSettingsMap": {},
     "title": ""
    }
   },
   "outputs": [],
   "source": [
    "df_carros = spark.read.format(\"csv\").option(\"header\", True).load(\"/aprendizado/modelo_carro\").distinct()\n",
    "\n",
    "df_carros_source = df_carros.where(\n",
    "    (col(\"id_carro\") == '1') |\n",
    "    (col(\"id_carro\") == '2') |\n",
    "    (col(\"id_carro\") == '3')\n",
    ")\n",
    "\n",
    "df_carros_final = df_carros.where(\n",
    "    (col(\"id_carro\") == '1') |\n",
    "    (col(\"id_carro\") == '2') |\n",
    "    (col(\"id_carro\") == '3') |\n",
    "    (col(\"id_carro\") == '4')\n",
    ")\n",
    "\n",
    "display(df_carros_source, df_carros_final)"
   ]
  },
  {
   "cell_type": "code",
   "execution_count": 0,
   "metadata": {
    "application/vnd.databricks.v1+cell": {
     "cellMetadata": {
      "byteLimit": 2048000,
      "rowLimit": 10000
     },
     "inputWidgets": {},
     "nuid": "119b10fc-0996-4625-997f-61b656bd5582",
     "showTitle": true,
     "tableResultSettingsMap": {},
     "title": "Create Temporary Views"
    }
   },
   "outputs": [],
   "source": [
    "df_carros_source.createOrReplaceTempView(\"carros_source\")\n",
    "df_carros_final.createOrReplaceTempView(\"carros_final\")"
   ]
  },
  {
   "cell_type": "code",
   "execution_count": 0,
   "metadata": {
    "application/vnd.databricks.v1+cell": {
     "cellMetadata": {
      "byteLimit": 2048000,
      "implicitDf": true,
      "rowLimit": 10000
     },
     "inputWidgets": {},
     "nuid": "6f4be657-375f-43bc-a855-be3c49a3b5d4",
     "showTitle": true,
     "tableResultSettingsMap": {},
     "title": "Select with Exists"
    }
   },
   "outputs": [],
   "source": [
    "%sql\n",
    "\n",
    "SELECT * FROM carros_final f\n",
    "WHERE EXISTS(\n",
    "  SELECT * FROM carros_source s WHERE s.id_carro = f.id_carro\n",
    ")"
   ]
  },
  {
   "cell_type": "code",
   "execution_count": 0,
   "metadata": {
    "application/vnd.databricks.v1+cell": {
     "cellMetadata": {
      "byteLimit": 2048000,
      "rowLimit": 10000
     },
     "inputWidgets": {},
     "nuid": "d7059e8a-396e-4c06-8854-fca275db345b",
     "showTitle": true,
     "tableResultSettingsMap": {},
     "title": "Left Semi Join with PySpark"
    }
   },
   "outputs": [],
   "source": [
    "df_leftsemijoin = df_carros.join(\n",
    "    df_carros_source,\n",
    "    df_carros_final.id_carro == df_carros_source.id_carro,\n",
    "    \"leftsemi\"\n",
    ")\n",
    "\n",
    "display(df_leftsemijoin)"
   ]
  }
 ],
 "metadata": {
  "application/vnd.databricks.v1+notebook": {
   "computePreferences": null,
   "dashboards": [],
   "environmentMetadata": {
    "base_environment": "",
    "client": "1"
   },
   "language": "python",
   "notebookMetadata": {
    "mostRecentlyExecutedCommandWithImplicitDF": {
     "commandId": 1360219825043975,
     "dataframes": [
      "_sqldf"
     ]
    },
    "pythonIndentUnit": 4
   },
   "notebookName": "Aula 11 - Exists e Left Semi",
   "widgets": {}
  }
 },
 "nbformat": 4,
 "nbformat_minor": 0
}
