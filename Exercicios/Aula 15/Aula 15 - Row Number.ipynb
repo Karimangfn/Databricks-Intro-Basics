{
 "cells": [
  {
   "cell_type": "code",
   "execution_count": 0,
   "metadata": {
    "application/vnd.databricks.v1+cell": {
     "cellMetadata": {
      "byteLimit": 2048000,
      "rowLimit": 10000
     },
     "inputWidgets": {},
     "nuid": "f77352aa-348d-4ecc-954c-2b8a40f78fd2",
     "showTitle": false,
     "tableResultSettingsMap": {},
     "title": ""
    }
   },
   "outputs": [],
   "source": [
    "from pyspark.sql.functions import *\n",
    "from pyspark.sql.types import *"
   ]
  },
  {
   "cell_type": "code",
   "execution_count": 0,
   "metadata": {
    "application/vnd.databricks.v1+cell": {
     "cellMetadata": {
      "byteLimit": 2048000,
      "rowLimit": 10000
     },
     "inputWidgets": {},
     "nuid": "b52276ea-0538-40dc-85e7-d090942a0dc3",
     "showTitle": false,
     "tableResultSettingsMap": {},
     "title": ""
    }
   },
   "outputs": [],
   "source": [
    "df_carros = spark.read.format(\"csv\").option(\"header\", True).load(\"/aprendizado/modelo_carro\").distinct()\n",
    "\n",
    "df_carros = df_carros.withColumn(\n",
    "    \"preco\",\n",
    "    regexp_replace(\n",
    "        \"preco\", \"\\$\", \"\"\n",
    "    ).cast(DoubleType())\n",
    ")\n",
    "\n",
    "display(df_carros)"
   ]
  },
  {
   "cell_type": "code",
   "execution_count": 0,
   "metadata": {
    "application/vnd.databricks.v1+cell": {
     "cellMetadata": {
      "byteLimit": 2048000,
      "rowLimit": 10000
     },
     "inputWidgets": {},
     "nuid": "d9b0d148-86bd-4896-932e-cc244e89f436",
     "showTitle": true,
     "tableResultSettingsMap": {},
     "title": "Create Temporary View"
    }
   },
   "outputs": [],
   "source": [
    "df_carros.createOrReplaceTempView(\"carros\")"
   ]
  },
  {
   "cell_type": "code",
   "execution_count": 0,
   "metadata": {
    "application/vnd.databricks.v1+cell": {
     "cellMetadata": {
      "byteLimit": 2048000,
      "implicitDf": true,
      "rowLimit": 10000
     },
     "inputWidgets": {},
     "nuid": "ef1c141c-e4d9-4e1b-9e30-3f9b69dbde78",
     "showTitle": true,
     "tableResultSettingsMap": {},
     "title": "Select with Row Number"
    }
   },
   "outputs": [],
   "source": [
    "%sql\n",
    "\n",
    "SELECT\n",
    "  *,\n",
    "  ROW_NUMBER() OVER(PARTITION BY modelo_carro ORDER BY preco ASC) row_number\n",
    "FROM carros"
   ]
  },
  {
   "cell_type": "code",
   "execution_count": 0,
   "metadata": {
    "application/vnd.databricks.v1+cell": {
     "cellMetadata": {
      "byteLimit": 2048000,
      "rowLimit": 10000
     },
     "inputWidgets": {},
     "nuid": "5e91523c-3d7c-41c0-b949-e824dbd71b25",
     "showTitle": true,
     "tableResultSettingsMap": {},
     "title": "Row Number with PySpark"
    }
   },
   "outputs": [],
   "source": [
    "from pyspark.sql.window import Window\n",
    "\n",
    "df_carros_spark = df_carros.withColumn(\n",
    "    \"row_number\",\n",
    "    row_number().over(\n",
    "        Window.partitionBy(\"modelo_carro\").orderBy(\"preco\")\n",
    "    )\n",
    ")\n",
    "\n",
    "display(df_carros_spark)"
   ]
  }
 ],
 "metadata": {
  "application/vnd.databricks.v1+notebook": {
   "computePreferences": null,
   "dashboards": [],
   "environmentMetadata": {
    "base_environment": "",
    "client": "1"
   },
   "language": "python",
   "notebookMetadata": {
    "mostRecentlyExecutedCommandWithImplicitDF": {
     "commandId": 1443107265468823,
     "dataframes": [
      "_sqldf"
     ]
    },
    "pythonIndentUnit": 4
   },
   "notebookName": "Aula 15 - Row Number",
   "widgets": {}
  }
 },
 "nbformat": 4,
 "nbformat_minor": 0
}
