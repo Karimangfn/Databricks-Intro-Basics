{
 "cells": [
  {
   "cell_type": "code",
   "execution_count": 0,
   "metadata": {
    "application/vnd.databricks.v1+cell": {
     "cellMetadata": {
      "byteLimit": 2048000,
      "rowLimit": 10000
     },
     "inputWidgets": {},
     "nuid": "43ead85d-4fcc-4066-8e74-bcebebe588bc",
     "showTitle": false,
     "tableResultSettingsMap": {},
     "title": ""
    }
   },
   "outputs": [],
   "source": [
    "from pyspark.sql.functions import regexp_replace"
   ]
  },
  {
   "cell_type": "code",
   "execution_count": 0,
   "metadata": {
    "application/vnd.databricks.v1+cell": {
     "cellMetadata": {
      "byteLimit": 2048000,
      "rowLimit": 10000
     },
     "inputWidgets": {},
     "nuid": "9db0ea3d-b734-4bdc-bc60-d54fe22d8030",
     "showTitle": false,
     "tableResultSettingsMap": {},
     "title": ""
    }
   },
   "outputs": [],
   "source": [
    "df = spark.read.format(\"csv\").option(\"header\", True).load(\"/aprendizado/modelo_carro\")\n",
    "\n",
    "df_new_column = df.withColumn(\"preco\", regexp_replace(\"preco\", \"$\", \"\"))\n",
    "\n",
    "display(df_new_column)"
   ]
  },
  {
   "cell_type": "code",
   "execution_count": 0,
   "metadata": {
    "application/vnd.databricks.v1+cell": {
     "cellMetadata": {
      "byteLimit": 2048000,
      "rowLimit": 10000
     },
     "inputWidgets": {},
     "nuid": "cd26a31c-7b7e-46b2-b01f-71837d59a7ec",
     "showTitle": true,
     "tableResultSettingsMap": {},
     "title": "Create Temporary View"
    }
   },
   "outputs": [],
   "source": [
    "df.createOrReplaceTempView(\"carros\")"
   ]
  },
  {
   "cell_type": "code",
   "execution_count": 0,
   "metadata": {
    "application/vnd.databricks.v1+cell": {
     "cellMetadata": {
      "byteLimit": 2048000,
      "implicitDf": true,
      "rowLimit": 10000
     },
     "inputWidgets": {},
     "nuid": "8919a4b0-0627-4d72-a5dd-29e57856e88d",
     "showTitle": true,
     "tableResultSettingsMap": {},
     "title": "Select with CAST"
    }
   },
   "outputs": [],
   "source": [
    "%sql\n",
    "\n",
    "SELECT\n",
    "  CAST(id_carro AS INT) id_carro, modelo_carro,\n",
    "  CAST(preco AS DOUBLE) preco,\n",
    "  CAST(cod_marca AS INT) code_marca\n",
    "FROM carros"
   ]
  },
  {
   "cell_type": "code",
   "execution_count": 0,
   "metadata": {
    "application/vnd.databricks.v1+cell": {
     "cellMetadata": {
      "byteLimit": 2048000,
      "rowLimit": 10000
     },
     "inputWidgets": {},
     "nuid": "82ad72ac-4ded-4db1-a573-169887297cb6",
     "showTitle": true,
     "tableResultSettingsMap": {},
     "title": "CAST with SparkSQL"
    }
   },
   "outputs": [],
   "source": [
    "df_sql = spark.sql(\"\"\"\n",
    "    SELECT\n",
    "      CAST(id_carro AS INT) id_carro, modelo_carro,\n",
    "      CAST(preco AS DOUBLE) preco,\n",
    "      CAST(cod_marca AS INT) code_marca\n",
    "    FROM carros\n",
    "\"\"\")\n",
    "\n",
    "display(df_sql)"
   ]
  },
  {
   "cell_type": "code",
   "execution_count": 0,
   "metadata": {
    "application/vnd.databricks.v1+cell": {
     "cellMetadata": {
      "byteLimit": 2048000,
      "rowLimit": 10000
     },
     "inputWidgets": {},
     "nuid": "75107f84-1f07-454d-9d72-1e01e448471d",
     "showTitle": true,
     "tableResultSettingsMap": {},
     "title": "printSchema"
    }
   },
   "outputs": [],
   "source": [
    "df_sql.printSchema()"
   ]
  },
  {
   "cell_type": "code",
   "execution_count": 0,
   "metadata": {
    "application/vnd.databricks.v1+cell": {
     "cellMetadata": {
      "byteLimit": 2048000,
      "rowLimit": 10000
     },
     "inputWidgets": {},
     "nuid": "be4f72c8-436c-4ef0-8f5d-fa078d534c49",
     "showTitle": true,
     "tableResultSettingsMap": {},
     "title": "Cast with PySpark"
    }
   },
   "outputs": [],
   "source": [
    "from pyspark.sql.types import *\n",
    "from pyspark.sql.functions import *\n",
    "\n",
    "df_sql_spark = df_sql.withColumn(\n",
    "    \"id_carro\",\n",
    "    col(\"id_carro\").cast(\"int\")\n",
    ")"
   ]
  }
 ],
 "metadata": {
  "application/vnd.databricks.v1+notebook": {
   "computePreferences": null,
   "dashboards": [],
   "environmentMetadata": {
    "base_environment": "",
    "client": "1"
   },
   "language": "python",
   "notebookMetadata": {
    "mostRecentlyExecutedCommandWithImplicitDF": {
     "commandId": 1050811449524275,
     "dataframes": [
      "_sqldf"
     ]
    },
    "pythonIndentUnit": 4
   },
   "notebookName": "Aula 6 - Tipagem de Dados",
   "widgets": {}
  }
 },
 "nbformat": 4,
 "nbformat_minor": 0
}
