{
 "cells": [
  {
   "cell_type": "code",
   "execution_count": 0,
   "metadata": {
    "application/vnd.databricks.v1+cell": {
     "cellMetadata": {
      "byteLimit": 2048000,
      "rowLimit": 10000
     },
     "inputWidgets": {},
     "nuid": "eba54f17-e96c-4c62-86b9-13de7dceaf7c",
     "showTitle": false,
     "tableResultSettingsMap": {},
     "title": ""
    }
   },
   "outputs": [],
   "source": [
    "from pyspark.sql.functions import *\n",
    "from pyspark.sql.types import *"
   ]
  },
  {
   "cell_type": "code",
   "execution_count": 0,
   "metadata": {
    "application/vnd.databricks.v1+cell": {
     "cellMetadata": {
      "byteLimit": 2048000,
      "rowLimit": 10000
     },
     "inputWidgets": {},
     "nuid": "3372612c-6745-459b-bfc5-f11ef19b1aaa",
     "showTitle": false,
     "tableResultSettingsMap": {},
     "title": ""
    }
   },
   "outputs": [],
   "source": [
    "df_carros = spark.read.format(\"csv\").option(\"header\", True).load(\"/aprendizado/modelo_carro\").distinct()\n",
    "\n",
    "df_carros = df_carros.withColumn(\n",
    "    \"preco\",\n",
    "    regexp_replace(\n",
    "        \"preco\", \"\\$\", \"\"\n",
    "    ).cast(DoubleType())\n",
    ")\n",
    "\n",
    "display(df_carros)"
   ]
  },
  {
   "cell_type": "code",
   "execution_count": 0,
   "metadata": {
    "application/vnd.databricks.v1+cell": {
     "cellMetadata": {
      "byteLimit": 2048000,
      "rowLimit": 10000
     },
     "inputWidgets": {},
     "nuid": "5e7e7468-a4d1-4983-bbad-b26e742440d9",
     "showTitle": true,
     "tableResultSettingsMap": {},
     "title": "Create Temporary View"
    }
   },
   "outputs": [],
   "source": [
    "df_carros.createOrReplaceTempView(\"carros\")"
   ]
  },
  {
   "cell_type": "code",
   "execution_count": 0,
   "metadata": {
    "application/vnd.databricks.v1+cell": {
     "cellMetadata": {
      "byteLimit": 2048000,
      "implicitDf": true,
      "rowLimit": 10000
     },
     "inputWidgets": {},
     "nuid": "59673a43-201d-4e11-a21c-5c5e8ee7244b",
     "showTitle": true,
     "tableResultSettingsMap": {},
     "title": "Select with SUM, MAX and MIN"
    }
   },
   "outputs": [],
   "source": [
    "%sql\n",
    "\n",
    "SELECT\n",
    "  SUM(preco) AS sum_preco, \n",
    "  MAX(preco) max_preco, \n",
    "  MIN(preco) min_preco\n",
    "FROM carros\n",
    "GROUP BY modelo_carro"
   ]
  },
  {
   "cell_type": "code",
   "execution_count": 0,
   "metadata": {
    "application/vnd.databricks.v1+cell": {
     "cellMetadata": {
      "byteLimit": 2048000,
      "rowLimit": 10000
     },
     "inputWidgets": {},
     "nuid": "f601afd4-091f-4f00-abd8-5b6c1a83c5a0",
     "showTitle": true,
     "tableResultSettingsMap": {},
     "title": "SUM, MAX and Min with PySpark"
    }
   },
   "outputs": [],
   "source": [
    "df_carros_spark = df_carros.groupBy(\n",
    "    \"modelo_carro\"\n",
    ").agg(\n",
    "    sum(\"preco\"),\n",
    "    max(\"preco\"),\n",
    "    min(\"preco\")\n",
    ")\n",
    "\n",
    "display(df_carros_spark)"
   ]
  }
 ],
 "metadata": {
  "application/vnd.databricks.v1+notebook": {
   "computePreferences": null,
   "dashboards": [],
   "environmentMetadata": {
    "base_environment": "",
    "client": "1"
   },
   "language": "python",
   "notebookMetadata": {
    "mostRecentlyExecutedCommandWithImplicitDF": {
     "commandId": 1443107265468816,
     "dataframes": [
      "_sqldf"
     ]
    },
    "pythonIndentUnit": 4
   },
   "notebookName": "Aula 14 - Funções de Agregação",
   "widgets": {}
  }
 },
 "nbformat": 4,
 "nbformat_minor": 0
}
